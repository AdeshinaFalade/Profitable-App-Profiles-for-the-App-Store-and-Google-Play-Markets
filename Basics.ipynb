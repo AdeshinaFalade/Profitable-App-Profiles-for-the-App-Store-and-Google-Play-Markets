{
 "cells": [
  {
   "cell_type": "markdown",
   "metadata": {},
   "source": [
    "# Project"
   ]
  },
  {
   "cell_type": "code",
   "execution_count": 1,
   "metadata": {
    "collapsed": false
   },
   "outputs": [],
   "source": [
    "open1= open('AppleStore.csv')\n",
    "from csv import reader\n",
    "rd1= reader(open1)\n",
    "astore = list(rd1)\n",
    "\n",
    "open2= open('googleplaystore.csv')\n",
    "from csv import reader\n",
    "rd2= reader(open2)\n",
    "pstore = list(rd2)"
   ]
  },
  {
   "cell_type": "code",
   "execution_count": 2,
   "metadata": {
    "collapsed": false
   },
   "outputs": [
    {
     "name": "stdout",
     "output_type": "stream",
     "text": [
      "['284882215', 'Facebook', '389879808', 'USD', '0.0', '2974676', '212', '3.5', '3.5', '95.0', '4+', 'Social Networking', '37', '1', '29', '1']\n",
      "\n",
      "\n",
      "['389801252', 'Instagram', '113954816', 'USD', '0.0', '2161558', '1289', '4.5', '4.0', '10.23', '12+', 'Photo & Video', '37', '0', '29', '1']\n",
      "\n",
      "\n",
      "['529479190', 'Clash of Clans', '116476928', 'USD', '0.0', '2130805', '579', '4.5', '4.5', '9.24.12', '9+', 'Games', '38', '5', '18', '1']\n",
      "\n",
      "\n",
      "Number of rows: 7197\n",
      "Number of columns: 16\n"
     ]
    }
   ],
   "source": [
    "def explore_data(dataset, start, end, rows_and_columns=False):\n",
    "    dataset_slice = dataset[start:end]    \n",
    "    for row in dataset_slice:\n",
    "        print(row)\n",
    "        print('\\n') # adds a new (empty) line after each row\n",
    "\n",
    "    if rows_and_columns:\n",
    "        print('Number of rows:', len(dataset))\n",
    "        print('Number of columns:', len(dataset[0]))\n",
    "        \n",
    "explore_data(astore[1:],0,3,True)"
   ]
  },
  {
   "cell_type": "code",
   "execution_count": 3,
   "metadata": {
    "collapsed": false
   },
   "outputs": [
    {
     "name": "stdout",
     "output_type": "stream",
     "text": [
      "['id', 'track_name', 'size_bytes', 'currency', 'price', 'rating_count_tot', 'rating_count_ver', 'user_rating', 'user_rating_ver', 'ver', 'cont_rating', 'prime_genre', 'sup_devices.num', 'ipadSc_urls.num', 'lang.num', 'vpp_lic'] \n",
      "\n",
      "['App', 'Category', 'Rating', 'Reviews', 'Size', 'Installs', 'Type', 'Price', 'Content Rating', 'Genres', 'Last Updated', 'Current Ver', 'Android Ver']\n"
     ]
    }
   ],
   "source": [
    "print(astore[0],'\\n')\n",
    "\n",
    "print(pstore[0])"
   ]
  },
  {
   "cell_type": "code",
   "execution_count": 4,
   "metadata": {
    "collapsed": false
   },
   "outputs": [],
   "source": [
    "del pstore[10473]"
   ]
  },
  {
   "cell_type": "markdown",
   "metadata": {},
   "source": [
    "Google Play data has some duplicate entries. We need to delete the duplicates."
   ]
  },
  {
   "cell_type": "code",
   "execution_count": 5,
   "metadata": {
    "collapsed": false
   },
   "outputs": [
    {
     "name": "stdout",
     "output_type": "stream",
     "text": [
      "No. of duplicates =  1181\n",
      "examples of duplicates =  ['Quick PDF Scanner + OCR FREE', 'Box', 'Google My Business', 'ZOOM Cloud Meetings', 'join.me - Simple Meetings', 'Box', 'Zenefits', 'Google Ads', 'Google My Business', 'Slack', 'FreshBooks Classic', 'Insightly CRM', 'QuickBooks Accounting: Invoicing & Expenses', 'HipChat - Chat Built for Teams', 'Xero Accounting Software']\n"
     ]
    }
   ],
   "source": [
    "duplicate=[]\n",
    "unique=[]\n",
    "for app in pstore[1:]:\n",
    "    name = app[0]\n",
    "    if name in unique: duplicate.append(name)\n",
    "    else: unique.append(name)\n",
    "        \n",
    "print('No. of duplicates = ', len(duplicate))\n",
    "print('examples of duplicates = ',duplicate[:15])"
   ]
  },
  {
   "cell_type": "code",
   "execution_count": 6,
   "metadata": {
    "collapsed": false,
    "scrolled": true
   },
   "outputs": [
    {
     "name": "stdout",
     "output_type": "stream",
     "text": [
      "True\n"
     ]
    }
   ],
   "source": [
    "print('Instagram' in duplicate)"
   ]
  },
  {
   "cell_type": "markdown",
   "metadata": {},
   "source": [
    "We need to find a criterion to remove duplicates. "
   ]
  },
  {
   "cell_type": "code",
   "execution_count": 7,
   "metadata": {
    "collapsed": false
   },
   "outputs": [
    {
     "name": "stdout",
     "output_type": "stream",
     "text": [
      "['Instagram', 'SOCIAL', '4.5', '66577313', 'Varies with device', '1,000,000,000+', 'Free', '0', 'Teen', 'Social', 'July 31, 2018', 'Varies with device', 'Varies with device']\n",
      "['Instagram', 'SOCIAL', '4.5', '66577446', 'Varies with device', '1,000,000,000+', 'Free', '0', 'Teen', 'Social', 'July 31, 2018', 'Varies with device', 'Varies with device']\n",
      "['Instagram', 'SOCIAL', '4.5', '66577313', 'Varies with device', '1,000,000,000+', 'Free', '0', 'Teen', 'Social', 'July 31, 2018', 'Varies with device', 'Varies with device']\n",
      "['Instagram', 'SOCIAL', '4.5', '66509917', 'Varies with device', '1,000,000,000+', 'Free', '0', 'Teen', 'Social', 'July 31, 2018', 'Varies with device', 'Varies with device']\n"
     ]
    }
   ],
   "source": [
    "for app in pstore[1:]:\n",
    "    name = app[0]\n",
    "    if name == 'Instagram': print(app)\n",
    "    "
   ]
  },
  {
   "cell_type": "markdown",
   "metadata": {},
   "source": [
    "We can see that only the reviews vary. So we will only keep the row with the highest number of reviews."
   ]
  },
  {
   "cell_type": "code",
   "execution_count": 8,
   "metadata": {
    "collapsed": false
   },
   "outputs": [
    {
     "data": {
      "text/plain": [
       "9659"
      ]
     },
     "execution_count": 8,
     "metadata": {},
     "output_type": "execute_result"
    }
   ],
   "source": [
    "reviews_max = {}\n",
    "for app in pstore[1:]:\n",
    "    name = app[0]\n",
    "    n_reviews=float(app[3])\n",
    "    if name in reviews_max and reviews_max[name]<n_reviews: \n",
    "        reviews_max[name]= n_reviews\n",
    "    if name not in reviews_max:\n",
    "        reviews_max[name]= n_reviews\n",
    "\n",
    "len(reviews_max)\n"
   ]
  },
  {
   "cell_type": "code",
   "execution_count": 9,
   "metadata": {
    "collapsed": false
   },
   "outputs": [
    {
     "name": "stdout",
     "output_type": "stream",
     "text": [
      "['Photo Editor & Candy Camera & Grid & ScrapBook', 'ART_AND_DESIGN', '4.1', '159', '19M', '10,000+', 'Free', '0', 'Everyone', 'Art & Design', 'January 7, 2018', '1.0.0', '4.0.3 and up']\n",
      "\n",
      "\n",
      "['U Launcher Lite – FREE Live Cool Themes, Hide Apps', 'ART_AND_DESIGN', '4.7', '87510', '8.7M', '5,000,000+', 'Free', '0', 'Everyone', 'Art & Design', 'August 1, 2018', '1.2.4', '4.0.3 and up']\n",
      "\n",
      "\n",
      "['Sketch - Draw & Paint', 'ART_AND_DESIGN', '4.5', '215644', '25M', '50,000,000+', 'Free', '0', 'Teen', 'Art & Design', 'June 8, 2018', 'Varies with device', '4.2 and up']\n",
      "\n",
      "\n",
      "['Pixel Draw - Number Art Coloring Book', 'ART_AND_DESIGN', '4.3', '967', '2.8M', '100,000+', 'Free', '0', 'Everyone', 'Art & Design;Creativity', 'June 20, 2018', '1.1', '4.4 and up']\n",
      "\n",
      "\n",
      "['Paper flowers instructions', 'ART_AND_DESIGN', '4.4', '167', '5.6M', '50,000+', 'Free', '0', 'Everyone', 'Art & Design', 'March 26, 2017', '1.0', '2.3 and up']\n",
      "\n",
      "\n",
      "9659\n"
     ]
    }
   ],
   "source": [
    "android_clean = []\n",
    "already_added = []\n",
    "for app in pstore[1:]:\n",
    "    name = app[0]\n",
    "    n_reviews = float(app[3])\n",
    "    if n_reviews == reviews_max[name] and name not in already_added:\n",
    "        android_clean.append(app)\n",
    "        already_added.append(name)\n",
    "    \n",
    "explore_data(android_clean,0,5)\n",
    "print(len(android_clean))"
   ]
  },
  {
   "cell_type": "markdown",
   "metadata": {},
   "source": [
    "We remove the duplicate apps with the above code."
   ]
  },
  {
   "cell_type": "code",
   "execution_count": 10,
   "metadata": {
    "collapsed": false
   },
   "outputs": [
    {
     "name": "stdout",
     "output_type": "stream",
     "text": [
      "64\n"
     ]
    }
   ],
   "source": [
    "print(ord('@'))"
   ]
  },
  {
   "cell_type": "code",
   "execution_count": 11,
   "metadata": {
    "collapsed": false
   },
   "outputs": [
    {
     "data": {
      "text/plain": [
       "False"
      ]
     },
     "execution_count": 11,
     "metadata": {},
     "output_type": "execute_result"
    }
   ],
   "source": [
    "def eng(string):\n",
    "    for a in string:\n",
    "        if ord(a) > 127: \n",
    "            return False\n",
    "    return True\n",
    "    \n",
    "eng('Instachat 😜')"
   ]
  },
  {
   "cell_type": "code",
   "execution_count": 12,
   "metadata": {
    "collapsed": false
   },
   "outputs": [
    {
     "data": {
      "text/plain": [
       "False"
      ]
     },
     "execution_count": 12,
     "metadata": {},
     "output_type": "execute_result"
    }
   ],
   "source": [
    "eng('爱奇艺PPS -《欢乐颂2》电视剧热播')"
   ]
  },
  {
   "cell_type": "markdown",
   "metadata": {},
   "source": [
    "The function above is used to detect if a string contains non-English characters. But it doesn't recognize some characters, so we need to edit it to only return **False** if there are more than three characters outside the ASCII."
   ]
  },
  {
   "cell_type": "code",
   "execution_count": 13,
   "metadata": {
    "collapsed": false
   },
   "outputs": [
    {
     "data": {
      "text/plain": [
       "128540"
      ]
     },
     "execution_count": 13,
     "metadata": {},
     "output_type": "execute_result"
    }
   ],
   "source": [
    "ord('😜')"
   ]
  },
  {
   "cell_type": "code",
   "execution_count": 14,
   "metadata": {
    "collapsed": false
   },
   "outputs": [
    {
     "data": {
      "text/plain": [
       "False"
      ]
     },
     "execution_count": 14,
     "metadata": {},
     "output_type": "execute_result"
    }
   ],
   "source": [
    "def engl(string):\n",
    "    n=[]\n",
    "    for a in string:\n",
    "        if ord(a) > 127: n.append(a)\n",
    "    if len(n)>3:\n",
    "            return False\n",
    "    return True\n",
    "engl('爱奇艺PPS -《欢乐颂2》电视剧热播')"
   ]
  },
  {
   "cell_type": "code",
   "execution_count": 15,
   "metadata": {
    "collapsed": false
   },
   "outputs": [
    {
     "name": "stdout",
     "output_type": "stream",
     "text": [
      "9614\n"
     ]
    }
   ],
   "source": [
    "android=[]\n",
    "for app in android_clean:\n",
    "    name = app[0]\n",
    "    if engl(name) == True:\n",
    "        android.append(app)\n",
    "        \n",
    "print(len(android))"
   ]
  },
  {
   "cell_type": "code",
   "execution_count": 16,
   "metadata": {
    "collapsed": false
   },
   "outputs": [
    {
     "name": "stdout",
     "output_type": "stream",
     "text": [
      "6183\n"
     ]
    }
   ],
   "source": [
    "ios=[]\n",
    "for app in astore[1:]:\n",
    "    name = app[1]\n",
    "    if engl(name) == True:\n",
    "        ios.append(app)\n",
    "        \n",
    "print(len(ios))"
   ]
  },
  {
   "cell_type": "code",
   "execution_count": 17,
   "metadata": {
    "collapsed": false
   },
   "outputs": [
    {
     "name": "stdout",
     "output_type": "stream",
     "text": [
      "['284882215', 'Facebook', '389879808', 'USD', '0.0', '2974676', '212', '3.5', '3.5', '95.0', '4+', 'Social Networking', '37', '1', '29', '1']\n",
      "\n",
      "\n",
      "['389801252', 'Instagram', '113954816', 'USD', '0.0', '2161558', '1289', '4.5', '4.0', '10.23', '12+', 'Photo & Video', '37', '0', '29', '1']\n",
      "\n",
      "\n",
      "['529479190', 'Clash of Clans', '116476928', 'USD', '0.0', '2130805', '579', '4.5', '4.5', '9.24.12', '9+', 'Games', '38', '5', '18', '1']\n",
      "\n",
      "\n",
      "['420009108', 'Temple Run', '65921024', 'USD', '0.0', '1724546', '3842', '4.5', '4.0', '1.6.2', '9+', 'Games', '40', '5', '1', '1']\n",
      "\n",
      "\n",
      "['284035177', 'Pandora - Music & Radio', '130242560', 'USD', '0.0', '1126879', '3594', '4.0', '4.5', '8.4.1', '12+', 'Music', '37', '4', '1', '1']\n",
      "\n",
      "\n",
      "Number of rows: 6183\n",
      "Number of columns: 16\n"
     ]
    }
   ],
   "source": [
    "explore_data(ios,0,5,True)"
   ]
  },
  {
   "cell_type": "markdown",
   "metadata": {},
   "source": [
    "We have removed the non-English apps."
   ]
  },
  {
   "cell_type": "code",
   "execution_count": 18,
   "metadata": {
    "collapsed": false
   },
   "outputs": [
    {
     "name": "stdout",
     "output_type": "stream",
     "text": [
      "[['App', 'Category', 'Rating', 'Reviews', 'Size', 'Installs', 'Type', 'Price', 'Content Rating', 'Genres', 'Last Updated', 'Current Ver', 'Android Ver'], ['Photo Editor & Candy Camera & Grid & ScrapBook', 'ART_AND_DESIGN', '4.1', '159', '19M', '10,000+', 'Free', '0', 'Everyone', 'Art & Design', 'January 7, 2018', '1.0.0', '4.0.3 and up']] \n",
      "\n",
      "['id', 'track_name', 'size_bytes', 'currency', 'price', 'rating_count_tot', 'rating_count_ver', 'user_rating', 'user_rating_ver', 'ver', 'cont_rating', 'prime_genre', 'sup_devices.num', 'ipadSc_urls.num', 'lang.num', 'vpp_lic']\n"
     ]
    }
   ],
   "source": [
    "print(pstore[:2],'\\n')\n",
    "print(astore[0])"
   ]
  },
  {
   "cell_type": "markdown",
   "metadata": {},
   "source": [
    "We need to isolate the free apps."
   ]
  },
  {
   "cell_type": "code",
   "execution_count": 19,
   "metadata": {
    "collapsed": false
   },
   "outputs": [],
   "source": [
    "ios_free = []\n",
    "for app in ios:\n",
    "    price = float(app[4])\n",
    "    if price == 0.0:\n",
    "        ios_free.append(app)\n",
    "        \n"
   ]
  },
  {
   "cell_type": "code",
   "execution_count": 20,
   "metadata": {
    "collapsed": false
   },
   "outputs": [],
   "source": [
    "android_free = []\n",
    "for app in android:\n",
    "    price = app[7]\n",
    "    if price == \"0\":\n",
    "        android_free.append(app)"
   ]
  },
  {
   "cell_type": "code",
   "execution_count": 21,
   "metadata": {
    "collapsed": false
   },
   "outputs": [
    {
     "name": "stdout",
     "output_type": "stream",
     "text": [
      "['284882215', 'Facebook', '389879808', 'USD', '0.0', '2974676', '212', '3.5', '3.5', '95.0', '4+', 'Social Networking', '37', '1', '29', '1']\n",
      "\n",
      "\n",
      "['389801252', 'Instagram', '113954816', 'USD', '0.0', '2161558', '1289', '4.5', '4.0', '10.23', '12+', 'Photo & Video', '37', '0', '29', '1']\n",
      "\n",
      "\n",
      "['529479190', 'Clash of Clans', '116476928', 'USD', '0.0', '2130805', '579', '4.5', '4.5', '9.24.12', '9+', 'Games', '38', '5', '18', '1']\n",
      "\n",
      "\n",
      "['420009108', 'Temple Run', '65921024', 'USD', '0.0', '1724546', '3842', '4.5', '4.0', '1.6.2', '9+', 'Games', '40', '5', '1', '1']\n",
      "\n",
      "\n",
      "['284035177', 'Pandora - Music & Radio', '130242560', 'USD', '0.0', '1126879', '3594', '4.0', '4.5', '8.4.1', '12+', 'Music', '37', '4', '1', '1']\n",
      "\n",
      "\n",
      "Number of rows: 3222\n",
      "Number of columns: 16\n"
     ]
    }
   ],
   "source": [
    "explore_data(ios_free,0,5,True)"
   ]
  },
  {
   "cell_type": "code",
   "execution_count": 22,
   "metadata": {
    "collapsed": false
   },
   "outputs": [
    {
     "name": "stdout",
     "output_type": "stream",
     "text": [
      "['Photo Editor & Candy Camera & Grid & ScrapBook', 'ART_AND_DESIGN', '4.1', '159', '19M', '10,000+', 'Free', '0', 'Everyone', 'Art & Design', 'January 7, 2018', '1.0.0', '4.0.3 and up']\n",
      "\n",
      "\n",
      "['U Launcher Lite – FREE Live Cool Themes, Hide Apps', 'ART_AND_DESIGN', '4.7', '87510', '8.7M', '5,000,000+', 'Free', '0', 'Everyone', 'Art & Design', 'August 1, 2018', '1.2.4', '4.0.3 and up']\n",
      "\n",
      "\n",
      "['Sketch - Draw & Paint', 'ART_AND_DESIGN', '4.5', '215644', '25M', '50,000,000+', 'Free', '0', 'Teen', 'Art & Design', 'June 8, 2018', 'Varies with device', '4.2 and up']\n",
      "\n",
      "\n",
      "['Pixel Draw - Number Art Coloring Book', 'ART_AND_DESIGN', '4.3', '967', '2.8M', '100,000+', 'Free', '0', 'Everyone', 'Art & Design;Creativity', 'June 20, 2018', '1.1', '4.4 and up']\n",
      "\n",
      "\n",
      "['Paper flowers instructions', 'ART_AND_DESIGN', '4.4', '167', '5.6M', '50,000+', 'Free', '0', 'Everyone', 'Art & Design', 'March 26, 2017', '1.0', '2.3 and up']\n",
      "\n",
      "\n",
      "Number of rows: 8864\n",
      "Number of columns: 13\n"
     ]
    }
   ],
   "source": [
    "explore_data(android_free,0,5,True)"
   ]
  },
  {
   "cell_type": "markdown",
   "metadata": {},
   "source": [
    "We need to build a frequency table to find out the most common genre in each market."
   ]
  },
  {
   "cell_type": "code",
   "execution_count": 23,
   "metadata": {
    "collapsed": false
   },
   "outputs": [
    {
     "name": "stdout",
     "output_type": "stream",
     "text": [
      "{'BEAUTY': 53, 'ENTERTAINMENT': 85, 'SHOPPING': 199, 'PARENTING': 58, 'BOOKS_AND_REFERENCE': 190, 'COMICS': 55, 'VIDEO_PLAYERS': 159, 'PERSONALIZATION': 294, 'ART_AND_DESIGN': 57, 'LIBRARIES_AND_DEMO': 83, 'EDUCATION': 103, 'SOCIAL': 236, 'TRAVEL_AND_LOCAL': 207, 'FINANCE': 328, 'PHOTOGRAPHY': 261, 'WEATHER': 71, 'SPORTS': 301, 'DATING': 165, 'AUTO_AND_VEHICLES': 82, 'LIFESTYLE': 346, 'NEWS_AND_MAGAZINES': 248, 'EVENTS': 63, 'FOOD_AND_DRINK': 110, 'GAME': 862, 'PRODUCTIVITY': 345, 'FAMILY': 1676, 'TOOLS': 750, 'HEALTH_AND_FITNESS': 273, 'HOUSE_AND_HOME': 73, 'MAPS_AND_NAVIGATION': 124, 'BUSINESS': 407, 'MEDICAL': 313, 'COMMUNICATION': 287}\n"
     ]
    },
    {
     "data": {
      "text/plain": [
       "1676"
      ]
     },
     "execution_count": 23,
     "metadata": {},
     "output_type": "execute_result"
    }
   ],
   "source": [
    "apkfreq={}\n",
    "for app in android_free:\n",
    "    genre = app[1]\n",
    "    if genre in apkfreq:\n",
    "        apkfreq[genre] +=1\n",
    "    else:\n",
    "        apkfreq[genre] = 1\n",
    "        \n",
    "print(apkfreq)\n",
    "max(apkfreq.values())"
   ]
  },
  {
   "cell_type": "code",
   "execution_count": 24,
   "metadata": {
    "collapsed": false
   },
   "outputs": [
    {
     "name": "stdout",
     "output_type": "stream",
     "text": [
      "{'Lifestyle': 51, 'News': 43, 'Health & Fitness': 65, 'Finance': 36, 'Productivity': 56, 'Education': 118, 'Utilities': 81, 'Photo & Video': 160, 'Book': 14, 'Food & Drink': 26, 'Social Networking': 106, 'Weather': 28, 'Music': 66, 'Business': 17, 'Sports': 69, 'Games': 1874, 'Travel': 40, 'Catalogs': 4, 'Shopping': 84, 'Entertainment': 254, 'Navigation': 6, 'Reference': 18, 'Medical': 6}\n"
     ]
    },
    {
     "data": {
      "text/plain": [
       "1874"
      ]
     },
     "execution_count": 24,
     "metadata": {},
     "output_type": "execute_result"
    }
   ],
   "source": [
    "iosfreq={}\n",
    "for app in ios_free:\n",
    "    genre = app[-5]\n",
    "    if genre in iosfreq:\n",
    "        iosfreq[genre] +=1\n",
    "    else:\n",
    "        iosfreq[genre] = 1\n",
    "        \n",
    "print(iosfreq)\n",
    "max(iosfreq.values())"
   ]
  },
  {
   "cell_type": "code",
   "execution_count": 25,
   "metadata": {
    "collapsed": false
   },
   "outputs": [],
   "source": [
    "def freq_table(dataset,index):\n",
    "    freq = {}\n",
    "    noa=len(dataset)\n",
    "    for app in dataset:\n",
    "        c = app[index]\n",
    "        if c in freq:\n",
    "            freq[c] += 1\n",
    "        else: freq[c] = 1\n",
    "    \n",
    "    for a in freq:\n",
    "        freq[a]/=noa\n",
    "        freq[a]*=100\n",
    "    return freq"
   ]
  },
  {
   "cell_type": "code",
   "execution_count": 26,
   "metadata": {
    "collapsed": true
   },
   "outputs": [],
   "source": [
    "def display_table(dataset,index):\n",
    "    table = freq_table(dataset,index)\n",
    "    table_display = []\n",
    "    for key in table:\n",
    "        key_val_as_tuple = (table[key], key)\n",
    "        table_display.append(key_val_as_tuple)\n",
    "\n",
    "    table_sorted = sorted(table_display, reverse = True)\n",
    "    for entry in table_sorted:\n",
    "        print(entry[1], ':', entry[0])"
   ]
  },
  {
   "cell_type": "code",
   "execution_count": 27,
   "metadata": {
    "collapsed": false,
    "scrolled": false
   },
   "outputs": [
    {
     "name": "stdout",
     "output_type": "stream",
     "text": [
      "Games : 58.16263190564867\n",
      "Entertainment : 7.883302296710118\n",
      "Photo & Video : 4.9658597144630665\n",
      "Education : 3.662321539416512\n",
      "Social Networking : 3.2898820608317814\n",
      "Shopping : 2.60707635009311\n",
      "Utilities : 2.5139664804469275\n",
      "Sports : 2.1415270018621975\n",
      "Music : 2.0484171322160147\n",
      "Health & Fitness : 2.0173805090006205\n",
      "Productivity : 1.7380509000620732\n",
      "Lifestyle : 1.5828677839851024\n",
      "News : 1.3345747982619491\n",
      "Travel : 1.2414649286157666\n",
      "Finance : 1.1173184357541899\n",
      "Weather : 0.8690254500310366\n",
      "Food & Drink : 0.8069522036002483\n",
      "Reference : 0.5586592178770949\n",
      "Business : 0.5276225946617008\n",
      "Book : 0.4345127250155183\n",
      "Navigation : 0.186219739292365\n",
      "Medical : 0.186219739292365\n",
      "Catalogs : 0.12414649286157665\n",
      "None \n",
      "\n",
      "Tools : 8.449909747292418\n",
      "Entertainment : 6.069494584837545\n",
      "Education : 5.347472924187725\n",
      "Business : 4.591606498194946\n",
      "Productivity : 3.892148014440433\n",
      "Lifestyle : 3.892148014440433\n",
      "Finance : 3.7003610108303246\n",
      "Medical : 3.531137184115524\n",
      "Sports : 3.463447653429603\n",
      "Personalization : 3.3167870036101084\n",
      "Communication : 3.2378158844765346\n",
      "Action : 3.1024368231046933\n",
      "Health & Fitness : 3.0798736462093865\n",
      "Photography : 2.944494584837545\n",
      "News & Magazines : 2.7978339350180503\n",
      "Social : 2.6624548736462095\n",
      "Travel & Local : 2.3240072202166067\n",
      "Shopping : 2.2450361010830324\n",
      "Books & Reference : 2.1435018050541514\n",
      "Simulation : 2.0419675090252705\n",
      "Dating : 1.861462093862816\n",
      "Arcade : 1.8501805054151623\n",
      "Video Players & Editors : 1.7712093862815883\n",
      "Casual : 1.7599277978339352\n",
      "Maps & Navigation : 1.3989169675090252\n",
      "Food & Drink : 1.2409747292418771\n",
      "Puzzle : 1.128158844765343\n",
      "Racing : 0.9927797833935018\n",
      "Role Playing : 0.9363718411552346\n",
      "Libraries & Demo : 0.9363718411552346\n",
      "Auto & Vehicles : 0.9250902527075812\n",
      "Strategy : 0.9138086642599278\n",
      "House & Home : 0.8235559566787004\n",
      "Weather : 0.8009927797833934\n",
      "Events : 0.7107400722021661\n",
      "Adventure : 0.6768953068592057\n",
      "Comics : 0.6092057761732852\n",
      "Beauty : 0.5979241877256317\n",
      "Art & Design : 0.5979241877256317\n",
      "Parenting : 0.4963898916967509\n",
      "Card : 0.45126353790613716\n",
      "Casino : 0.42870036101083037\n",
      "Trivia : 0.41741877256317694\n",
      "Educational;Education : 0.39485559566787\n",
      "Board : 0.3835740072202166\n",
      "Educational : 0.3722924187725632\n",
      "Education;Education : 0.33844765342960287\n",
      "Word : 0.2594765342960289\n",
      "Casual;Pretend Play : 0.236913357400722\n",
      "Music : 0.2030685920577617\n",
      "Racing;Action & Adventure : 0.16922382671480143\n",
      "Puzzle;Brain Games : 0.16922382671480143\n",
      "Entertainment;Music & Video : 0.16922382671480143\n",
      "Casual;Brain Games : 0.13537906137184114\n",
      "Casual;Action & Adventure : 0.13537906137184114\n",
      "Arcade;Action & Adventure : 0.12409747292418773\n",
      "Action;Action & Adventure : 0.10153429602888085\n",
      "Educational;Pretend Play : 0.09025270758122744\n",
      "Simulation;Action & Adventure : 0.078971119133574\n",
      "Parenting;Education : 0.078971119133574\n",
      "Entertainment;Brain Games : 0.078971119133574\n",
      "Board;Brain Games : 0.078971119133574\n",
      "Parenting;Music & Video : 0.06768953068592057\n",
      "Educational;Brain Games : 0.06768953068592057\n",
      "Casual;Creativity : 0.06768953068592057\n",
      "Art & Design;Creativity : 0.06768953068592057\n",
      "Education;Pretend Play : 0.056407942238267145\n",
      "Role Playing;Pretend Play : 0.04512635379061372\n",
      "Education;Creativity : 0.04512635379061372\n",
      "Role Playing;Action & Adventure : 0.033844765342960284\n",
      "Puzzle;Action & Adventure : 0.033844765342960284\n",
      "Entertainment;Creativity : 0.033844765342960284\n",
      "Entertainment;Action & Adventure : 0.033844765342960284\n",
      "Educational;Creativity : 0.033844765342960284\n",
      "Educational;Action & Adventure : 0.033844765342960284\n",
      "Education;Music & Video : 0.033844765342960284\n",
      "Education;Brain Games : 0.033844765342960284\n",
      "Education;Action & Adventure : 0.033844765342960284\n",
      "Adventure;Action & Adventure : 0.033844765342960284\n",
      "Video Players & Editors;Music & Video : 0.02256317689530686\n",
      "Sports;Action & Adventure : 0.02256317689530686\n",
      "Simulation;Pretend Play : 0.02256317689530686\n",
      "Puzzle;Creativity : 0.02256317689530686\n",
      "Music;Music & Video : 0.02256317689530686\n",
      "Entertainment;Pretend Play : 0.02256317689530686\n",
      "Casual;Education : 0.02256317689530686\n",
      "Board;Action & Adventure : 0.02256317689530686\n",
      "Video Players & Editors;Creativity : 0.01128158844765343\n",
      "Trivia;Education : 0.01128158844765343\n",
      "Travel & Local;Action & Adventure : 0.01128158844765343\n",
      "Tools;Education : 0.01128158844765343\n",
      "Strategy;Education : 0.01128158844765343\n",
      "Strategy;Creativity : 0.01128158844765343\n",
      "Strategy;Action & Adventure : 0.01128158844765343\n",
      "Simulation;Education : 0.01128158844765343\n",
      "Role Playing;Brain Games : 0.01128158844765343\n",
      "Racing;Pretend Play : 0.01128158844765343\n",
      "Puzzle;Education : 0.01128158844765343\n",
      "Parenting;Brain Games : 0.01128158844765343\n",
      "Music & Audio;Music & Video : 0.01128158844765343\n",
      "Lifestyle;Pretend Play : 0.01128158844765343\n",
      "Lifestyle;Education : 0.01128158844765343\n",
      "Health & Fitness;Education : 0.01128158844765343\n",
      "Health & Fitness;Action & Adventure : 0.01128158844765343\n",
      "Entertainment;Education : 0.01128158844765343\n",
      "Communication;Creativity : 0.01128158844765343\n",
      "Comics;Creativity : 0.01128158844765343\n",
      "Casual;Music & Video : 0.01128158844765343\n",
      "Card;Action & Adventure : 0.01128158844765343\n",
      "Books & Reference;Education : 0.01128158844765343\n",
      "Art & Design;Pretend Play : 0.01128158844765343\n",
      "Art & Design;Action & Adventure : 0.01128158844765343\n",
      "Arcade;Pretend Play : 0.01128158844765343\n",
      "Adventure;Education : 0.01128158844765343\n",
      "None \n",
      "\n",
      "FAMILY : 18.907942238267147\n",
      "GAME : 9.724729241877256\n",
      "TOOLS : 8.461191335740072\n",
      "BUSINESS : 4.591606498194946\n",
      "LIFESTYLE : 3.9034296028880866\n",
      "PRODUCTIVITY : 3.892148014440433\n",
      "FINANCE : 3.7003610108303246\n",
      "MEDICAL : 3.531137184115524\n",
      "SPORTS : 3.395758122743682\n",
      "PERSONALIZATION : 3.3167870036101084\n",
      "COMMUNICATION : 3.2378158844765346\n",
      "HEALTH_AND_FITNESS : 3.0798736462093865\n",
      "PHOTOGRAPHY : 2.944494584837545\n",
      "NEWS_AND_MAGAZINES : 2.7978339350180503\n",
      "SOCIAL : 2.6624548736462095\n",
      "TRAVEL_AND_LOCAL : 2.33528880866426\n",
      "SHOPPING : 2.2450361010830324\n",
      "BOOKS_AND_REFERENCE : 2.1435018050541514\n",
      "DATING : 1.861462093862816\n",
      "VIDEO_PLAYERS : 1.7937725631768955\n",
      "MAPS_AND_NAVIGATION : 1.3989169675090252\n",
      "FOOD_AND_DRINK : 1.2409747292418771\n",
      "EDUCATION : 1.1620036101083033\n",
      "ENTERTAINMENT : 0.9589350180505415\n",
      "LIBRARIES_AND_DEMO : 0.9363718411552346\n",
      "AUTO_AND_VEHICLES : 0.9250902527075812\n",
      "HOUSE_AND_HOME : 0.8235559566787004\n",
      "WEATHER : 0.8009927797833934\n",
      "EVENTS : 0.7107400722021661\n",
      "PARENTING : 0.6543321299638989\n",
      "ART_AND_DESIGN : 0.6430505415162455\n",
      "COMICS : 0.6204873646209386\n",
      "BEAUTY : 0.5979241877256317\n",
      "None\n"
     ]
    }
   ],
   "source": [
    "print(display_table(ios_free,-5),'\\n')\n",
    "print(display_table(android_free,-4),'\\n')\n",
    "print(display_table(android_free,1))"
   ]
  },
  {
   "cell_type": "markdown",
   "metadata": {
    "collapsed": true
   },
   "source": [
    "In the prime_genre column, the most common genre is games and terunner-up is Entertainment. Photoand Videocomesthird. Most apps are designed for entertainment.\n",
    "In category and genres column, tools, family and games are the most common genres. "
   ]
  },
  {
   "cell_type": "code",
   "execution_count": 30,
   "metadata": {
    "collapsed": false
   },
   "outputs": [
    {
     "data": {
      "text/plain": [
       "[['id',\n",
       "  'track_name',\n",
       "  'size_bytes',\n",
       "  'currency',\n",
       "  'price',\n",
       "  'rating_count_tot',\n",
       "  'rating_count_ver',\n",
       "  'user_rating',\n",
       "  'user_rating_ver',\n",
       "  'ver',\n",
       "  'cont_rating',\n",
       "  'prime_genre',\n",
       "  'sup_devices.num',\n",
       "  'ipadSc_urls.num',\n",
       "  'lang.num',\n",
       "  'vpp_lic'],\n",
       " ['284882215',\n",
       "  'Facebook',\n",
       "  '389879808',\n",
       "  'USD',\n",
       "  '0.0',\n",
       "  '2974676',\n",
       "  '212',\n",
       "  '3.5',\n",
       "  '3.5',\n",
       "  '95.0',\n",
       "  '4+',\n",
       "  'Social Networking',\n",
       "  '37',\n",
       "  '1',\n",
       "  '29',\n",
       "  '1']]"
      ]
     },
     "execution_count": 30,
     "metadata": {},
     "output_type": "execute_result"
    }
   ],
   "source": [
    "astore[:2]"
   ]
  },
  {
   "cell_type": "code",
   "execution_count": 46,
   "metadata": {
    "collapsed": false,
    "scrolled": true
   },
   "outputs": [
    {
     "name": "stdout",
     "output_type": "stream",
     "text": [
      "Lifestyle : 16485.764705882353\n",
      "News : 21248.023255813954\n",
      "Health & Fitness : 23298.015384615384\n",
      "Finance : 31467.944444444445\n",
      "Productivity : 21028.410714285714\n",
      "Education : 7003.983050847458\n",
      "Utilities : 18684.456790123455\n",
      "Photo & Video : 28441.54375\n",
      "Book : 39758.5\n",
      "Food & Drink : 33333.92307692308\n",
      "Social Networking : 71548.34905660378\n",
      "Weather : 52279.892857142855\n",
      "Music : 57326.530303030304\n",
      "Business : 7491.117647058823\n",
      "Sports : 23008.898550724636\n",
      "Games : 22788.6696905016\n",
      "Travel : 28243.8\n",
      "Catalogs : 4004.0\n",
      "Shopping : 26919.690476190477\n",
      "Entertainment : 14029.830708661417\n",
      "Navigation : 86090.33333333333\n",
      "Reference : 74942.11111111111\n",
      "Medical : 612.0\n"
     ]
    }
   ],
   "source": [
    "genres_ios = freq_table(ios_free, -5)\n",
    "for genre in genres_ios:\n",
    "    total = 0\n",
    "    len_genre = 0\n",
    "    for app in ios_free:\n",
    "        genre_app = app[-5]\n",
    "        if genre_app == genre:\n",
    "            n_ratings = float(app[5])\n",
    "            total += n_ratings\n",
    "            len_genre += 1\n",
    "    avg_n_ratings = total / len_genre\n",
    "    print(genre, ':', avg_n_ratings)"
   ]
  },
  {
   "cell_type": "markdown",
   "metadata": {},
   "source": [
    "navigation apps have the highest average number of user rating"
   ]
  },
  {
   "cell_type": "code",
   "execution_count": 51,
   "metadata": {
    "collapsed": false
   },
   "outputs": [
    {
     "name": "stdout",
     "output_type": "stream",
     "text": [
      "['284882215', 'Facebook', '389879808', 'USD', '0.0', '2974676', '212', '3.5', '3.5', '95.0', '4+', 'Social Networking', '37', '1', '29', '1'] \n",
      "\n",
      "['429047995', 'Pinterest', '74778624', 'USD', '0.0', '1061624', '1814', '4.5', '4.0', '6.26', '12+', 'Social Networking', '37', '5', '27', '1'] \n",
      "\n",
      "['304878510', 'Skype for iPhone', '133238784', 'USD', '0.0', '373519', '127', '3.5', '4.0', '6.35.1', '4+', 'Social Networking', '37', '0', '32', '1'] \n",
      "\n",
      "['454638411', 'Messenger', '275729408', 'USD', '0.0', '351466', '892', '3.0', '3.0', '119.0', '4+', 'Social Networking', '37', '1', '33', '1'] \n",
      "\n",
      "['305343404', 'Tumblr', '151573504', 'USD', '0.0', '334293', '919', '4.0', '4.0', '8.6', '17+', 'Social Networking', '37', '5', '16', '1'] \n",
      "\n",
      "['310633997', 'WhatsApp Messenger', '135044096', 'USD', '0.0', '287589', '73088', '4.5', '4.5', '2.17.22', '4+', 'Social Networking', '12', '0', '35', '1'] \n",
      "\n",
      "['357218860', 'Kik', '151864320', 'USD', '0.0', '260965', '228', '4.0', '3.0', '11.21.0', '12+', 'Social Networking', '37', '0', '14', '0'] \n",
      "\n",
      "['428845974', 'ooVoo – Free Video Call, Text and Voice', '113510400', 'USD', '0.0', '177501', '1014', '4.5', '4.5', '3.1.6', '4+', 'Social Networking', '37', '5', '21', '1'] \n",
      "\n",
      "['314716233', 'TextNow - Unlimited Text + Calls', '130637824', 'USD', '0.0', '164963', '69', '3.5', '4.0', '8.5.1', '4+', 'Social Networking', '37', '5', '3', '1'] \n",
      "\n",
      "['382617920', 'Viber Messenger – Text & Call', '129657856', 'USD', '0.0', '164249', '206', '4.5', '4.5', '6.9.0', '4+', 'Social Networking', '37', '5', '32', '1'] \n",
      "\n",
      "['552208596', 'Followers - Social Analytics For Instagram', '59160576', 'USD', '0.0', '112778', '139', '4.5', '4.5', '6.8.4', '4+', 'Social Networking', '37', '5', '11', '1'] \n",
      "\n",
      "['372648912', 'MeetMe - Chat and Meet New People', '133956608', 'USD', '0.0', '97072', '143', '4.0', '3.5', '12.1.1.0', '17+', 'Social Networking', '37', '0', '18', '1'] \n",
      "\n",
      "['539124565', 'We Heart It - Fashion, wallpapers, quotes, tattoos', '79953920', 'USD', '0.0', '90414', '44', '5.0', '4.0', '8.3.0', '12+', 'Social Networking', '37', '5', '31', '1'] \n",
      "\n",
      "['558512661', 'InsTrack for Instagram - Analytics Plus More', '14225408', 'USD', '0.0', '85535', '1897', '4.5', '4.5', '2.3.4', '4+', 'Social Networking', '37', '5', '31', '1'] \n",
      "\n",
      "['372513032', 'Tango - Free Video Call, Voice and Chat', '134848512', 'USD', '0.0', '75412', '66', '4.5', '4.5', '4.1.219400', '17+', 'Social Networking', '37', '5', '18', '1'] \n",
      "\n",
      "['288429040', 'LinkedIn', '273844224', 'USD', '0.0', '71856', '62', '3.5', '4.5', '9.1.32', '4+', 'Social Networking', '37', '2', '23', '1'] \n",
      "\n",
      "['305939712', 'Match™ - #1 Dating App.', '101259264', 'USD', '0.0', '60659', '57', '3.0', '2.5', '17.05.01', '17+', 'Social Networking', '37', '5', '10', '1'] \n",
      "\n",
      "['442012681', 'Skype for iPad', '129096704', 'USD', '0.0', '60163', '104', '4.0', '4.5', '6.35.1', '4+', 'Social Networking', '24', '5', '32', '1'] \n",
      "\n",
      "['389638243', 'POF - Best Dating App for Conversations', '59248640', 'USD', '0.0', '52642', '16', '3.5', '3.5', '5.90', '17+', 'Social Networking', '37', '5', '31', '1'] \n",
      "\n",
      "['569077959', 'Timehop', '67424256', 'USD', '0.0', '49510', '90', '3.5', '2.0', '4.0.12', '4+', 'Social Networking', '37', '0', '1', '1'] \n",
      "\n",
      "['384830320', 'Find My Family, Friends & iPhone - Life360 Locator', '154507264', 'USD', '0.0', '43877', '80', '4.5', '4.5', '13.7.1', '4+', 'Social Networking', '37', '0', '13', '1'] \n",
      "\n",
      "['506141837', 'Whisper - Share, Express, Meet', '98764800', 'USD', '0.0', '39819', '58', '4.0', '3.0', '8.6.1', '17+', 'Social Networking', '37', '0', '6', '1'] \n",
      "\n",
      "['643496868', 'Hangouts', '94750720', 'USD', '0.0', '36404', '0', '4.0', '0.0', '16.0.0', '4+', 'Social Networking', '37', '5', '34', '1'] \n",
      "\n",
      "['575147772', 'LINE PLAY - Your Avatar World', '108691456', 'USD', '0.0', '34677', '313', '4.5', '4.5', '4.9.6', '4+', 'Social Networking', '37', '5', '6', '1'] \n",
      "\n",
      "['414478124', 'WeChat', '182624256', 'USD', '0.0', '34584', '100', '4.5', '4.0', '6.5.8', '12+', 'Social Networking', '38', '4', '21', '1'] \n",
      "\n",
      "['351331194', 'Badoo - Meet New People, Chat, Socialize.', '157625344', 'USD', '0.0', '34428', '23', '4.5', '4.0', '5.8.0', '17+', 'Social Networking', '37', '4', '30', '1'] \n",
      "\n",
      "['566223681', 'Followers + for Instagram - Follower Analytics', '17986560', 'USD', '0.0', '28633', '402', '4.0', '3.5', '2.1.1', '12+', 'Social Networking', '38', '5', '29', '1'] \n",
      "\n",
      "['392796698', 'GroupMe', '66864128', 'USD', '0.0', '28260', '294', '4.5', '4.5', '5.9.0', '4+', 'Social Networking', '37', '1', '14', '1'] \n",
      "\n",
      "['912561374', 'Marco Polo Video Walkie Talkie', '122692608', 'USD', '0.0', '27662', '381', '4.5', '4.5', '0.14.87', '4+', 'Social Networking', '37', '2', '1', '1'] \n",
      "\n",
      "['1073816197', 'Miitomo', '112008192', 'USD', '0.0', '23965', '299', '4.0', '4.5', '2.2.2', '4+', 'Social Networking', '37', '5', '9', '1'] \n",
      "\n",
      "['375239755', 'SimSimi', '31358976', 'USD', '0.0', '23530', '7', '4.0', '2.5', '6.8.9', '17+', 'Social Networking', '37', '0', '25', '1'] \n",
      "\n",
      "['319881193', 'Grindr - Gay and same sex guys chat, meet and date', '80409600', 'USD', '0.0', '23201', '14', '2.5', '2.0', '3.9.1', '17+', 'Social Networking', '37', '5', '5', '1'] \n",
      "\n",
      "['836071680', 'Wishbone - Compare Anything', '117052416', 'USD', '0.0', '20649', '49', '4.5', '3.0', '5.17.4', '12+', 'Social Networking', '37', '0', '1', '1'] \n",
      "\n",
      "['336435697', 'imo video calls and chat', '22562816', 'USD', '0.0', '18841', '0', '4.0', '0.0', '7.0.84', '4+', 'Social Networking', '38', '2', '29', '1'] \n",
      "\n",
      "['918396645', 'After School - Funny Anonymous School News', '148799488', 'USD', '0.0', '18482', '1', '4.0', '5.0', '1.90', '17+', 'Social Networking', '37', '0', '1', '1'] \n",
      "\n",
      "['957764690', 'Quick Reposter - Repost, Regram and Reshare Photos', '16826368', 'USD', '0.0', '17694', '72', '4.5', '4.0', '15', '17+', 'Social Networking', '37', '2', '1', '1'] \n",
      "\n",
      "['386098453', 'Weibo HD', '104387584', 'USD', '0.0', '16772', '293', '4.5', '3.0', '4.0.0', '4+', 'Social Networking', '24', '4', '3', '1'] \n",
      "\n",
      "['570315854', 'Repost for Instagram', '46076928', 'USD', '0.0', '15185', '407', '4.5', '5.0', '3.2.5', '12+', 'Social Networking', '37', '0', '1', '1'] \n",
      "\n",
      "['1089836344', 'Live.me – Live Video Chat & Make Friends Nearby', '163832832', 'USD', '0.0', '14724', '97', '4.5', '4.5', '3.6.20', '17+', 'Social Networking', '37', '0', '9', '1'] \n",
      "\n",
      "['640360962', 'Nextdoor', '82531328', 'USD', '0.0', '14402', '104', '4.5', '4.5', '3.11', '4+', 'Social Networking', '37', '0', '4', '1'] \n",
      "\n",
      "['1156192844', 'Followers Analytics for Instagram - InstaReport', '35136512', 'USD', '0.0', '13914', '493', '4.5', '4.0', '2.3', '4+', 'Social Networking', '37', '0', '8', '1'] \n",
      "\n",
      "['471347413', 'YouNow: Live Stream Video Chat', '91615232', 'USD', '0.0', '12079', '24', '3.5', '3.5', '13.25.0', '12+', 'Social Networking', '37', '5', '7', '1'] \n",
      "\n",
      "['651309421', 'FollowMeter for Instagram - Followers Tracking', '11819008', 'USD', '0.0', '11976', '172', '4.5', '4.5', '3.6', '4+', 'Social Networking', '37', '0', '1', '1'] \n",
      "\n",
      "['443904275', 'LINE', '212208640', 'USD', '0.0', '11437', '11', '3.5', '3.0', '7.5.0', '4+', 'Social Networking', '37', '5', '17', '1'] \n",
      "\n",
      "['458272450', 'eHarmony™ Dating App - Meet Singles', '102413312', 'USD', '0.0', '11124', '15', '2.5', '1.0', '5.5.1', '17+', 'Social Networking', '37', '0', '1', '1'] \n",
      "\n",
      "['985746746', 'Discord - Chat for Gamers', '26890240', 'USD', '0.0', '9152', '0', '4.5', '0.0', '1.8.7', '4+', 'Social Networking', '37', '5', '1', '1'] \n",
      "\n",
      "['444934666', 'QQ', '218936320', 'USD', '0.0', '9109', '17', '3.0', '1.5', '7.0.1', '12+', 'Social Networking', '37', '0', '1', '1'] \n",
      "\n",
      "['686449807', 'Telegram Messenger', '71896064', 'USD', '0.0', '7573', '142', '4.0', '4.5', '4.0', '4+', 'Social Networking', '40', '3', '8', '1'] \n",
      "\n",
      "['350962117', 'Weibo', '199585792', 'USD', '0.0', '7265', '11', '3.5', '4.0', '7.5.2', '17+', 'Social Networking', '37', '5', '2', '1'] \n",
      "\n",
      "['972909677', 'Periscope - Live Video Streaming Around the World', '108550144', 'USD', '0.0', '6062', '17', '3.5', '4.0', '1.10', '4+', 'Social Networking', '37', '3', '34', '1'] \n",
      "\n",
      "['1112989865', 'Chat for Whatsapp - iPad Version', '24287232', 'USD', '0.0', '5060', '4189', '3.5', '3.5', '1.2', '12+', 'Social Networking', '24', '2', '1', '1'] \n",
      "\n",
      "['453718989', 'QQ HD', '118249472', 'USD', '0.0', '5058', '0', '3.5', '0.0', '6.6.1', '4+', 'Social Networking', '24', '5', '1', '1'] \n",
      "\n",
      "['1030505688', 'Followers Analysis Tool For Instagram App Free', '7891968', 'USD', '0.0', '4253', '251', '4.0', '4.0', '1.3', '4+', 'Social Networking', '38', '1', '31', '1'] \n",
      "\n",
      "['1085024470', 'live.ly - live video streaming', '143863808', 'USD', '0.0', '4145', '18', '3.5', '4.0', '4.12', '12+', 'Social Networking', '37', '0', '21', '1'] \n",
      "\n",
      "['1065781769', 'Houseparty - Group Video Chat', '79375360', 'USD', '0.0', '3991', '110', '4.0', '4.5', '1.1.3', '12+', 'Social Networking', '37', '4', '1', '1'] \n",
      "\n",
      "['992004655', 'SOMA Messenger', '92802048', 'USD', '0.0', '3232', '3', '4.5', '3.5', '1.7.4', '4+', 'Social Networking', '40', '0', '33', '1'] \n",
      "\n",
      "['1165924249', 'Monkey', '68677632', 'USD', '0.0', '3060', '122', '4.0', '3.5', '2.1.1', '12+', 'Social Networking', '37', '0', '1', '1'] \n",
      "\n",
      "['991526007', 'Down To Lunch', '35410944', 'USD', '0.0', '2535', '9', '4.0', '3.5', '1.72', '12+', 'Social Networking', '37', '0', '1', '1'] \n",
      "\n",
      "['862550306', 'Flinch - Video Chat Staring Contest', '88759296', 'USD', '0.0', '2134', '7', '3.0', '1.5', '1.7.4', '17+', 'Social Networking', '37', '0', '1', '1'] \n",
      "\n",
      "['924589795', 'Highrise - Your Avatar Community', '116480000', 'USD', '0.0', '2011', '15', '4.0', '4.5', '2.2.3', '12+', 'Social Networking', '37', '5', '15', '1'] \n",
      "\n",
      "['445338486', 'LOVOO - Dating Chat', '85049344', 'USD', '0.0', '1985', '4', '4.5', '5.0', '3.26.0', '17+', 'Social Networking', '37', '5', '15', '1'] \n",
      "\n",
      "['1053285387', 'PlayStation®Messages', '48062464', 'USD', '0.0', '1918', '92', '2.0', '2.5', '4.50.17', '12+', 'Social Networking', '37', '5', '19', '1'] \n",
      "\n",
      "['1094167473', 'BOO! - Video chat camera with filters & stickers', '112069632', 'USD', '0.0', '1805', '48', '4.0', '5.0', '2.4.0', '9+', 'Social Networking', '35', '0', '1', '1'] \n",
      "\n",
      "['364183992', 'Qzone', '133874688', 'USD', '0.0', '1649', '1', '3.5', '5.0', '7.2.8', '4+', 'Social Networking', '37', '0', '3', '1'] \n",
      "\n",
      "['698054232', 'Chatous - Chat with new people', '103056384', 'USD', '0.0', '1609', '5', '3.0', '5.0', '3.8.10', '12+', 'Social Networking', '37', '0', '11', '1'] \n",
      "\n",
      "['965609252', 'Kiwi - Q&A', '101882880', 'USD', '0.0', '1538', '17', '4.0', '4.5', '3.0.20', '12+', 'Social Networking', '37', '4', '34', '1'] \n",
      "\n",
      "['1083057569', 'GhostCodes - a discovery app for Snapchat', '54652928', 'USD', '0.0', '1313', '223', '4.5', '4.5', '1.9.9', '12+', 'Social Networking', '37', '0', '1', '1'] \n",
      "\n",
      "['789870026', 'Jodel', '56655872', 'USD', '0.0', '1193', '19', '4.5', '5.0', '3.58', '17+', 'Social Networking', '37', '0', '14', '1'] \n",
      "\n",
      "['719829352', 'FireChat', '15021056', 'USD', '0.0', '1037', '42', '3.0', '3.5', '8.0.12', '12+', 'Social Networking', '37', '3', '13', '1'] \n",
      "\n",
      "['1096918571', 'Google Duo - simple video calling', '44514304', 'USD', '0.0', '1033', '3', '4.0', '4.5', '12.0', '4+', 'Social Networking', '37', '0', '74', '1'] \n",
      "\n",
      "['1061724021', 'Fiesta by Tango - Chat & Meet New People', '179022848', 'USD', '0.0', '885', '148', '4.5', '4.5', '4.57.1', '17+', 'Social Networking', '37', '1', '30', '1'] \n",
      "\n",
      "['1096801294', 'Google Allo — smart messaging', '171962368', 'USD', '0.0', '862', '54', '3.5', '3.5', '11.0', '17+', 'Social Networking', '37', '0', '68', '1'] \n",
      "\n",
      "['1067891186', 'Peach — share vividly', '15626240', 'USD', '0.0', '727', '98', '4.0', '4.0', '1.2.1', '12+', 'Social Networking', '37', '0', '1', '1'] \n",
      "\n",
      "['1043337296', 'Hey! VINA - Where Women Meet New Friends', '103951360', 'USD', '0.0', '719', '83', '3.0', '4.5', '1.13', '12+', 'Social Networking', '37', '0', '1', '1'] \n",
      "\n",
      "['505311207', 'Battlefield™ Companion', '58883072', 'USD', '0.0', '689', '338', '2.5', '2.5', '3.0.4', '12+', 'Social Networking', '37', '5', '11', '1'] \n",
      "\n",
      "['1066416979', 'All Devices for WhatsApp - Messenger for iPad', '30306304', 'USD', '0.0', '682', '25', '3.0', '2.0', '1.64', '4+', 'Social Networking', '24', '2', '32', '1'] \n",
      "\n",
      "['1129553203', 'Chat for Pokemon Go - GoChat', '18925568', 'USD', '0.0', '500', '500', '2.0', '2.0', '1.0', '4+', 'Social Networking', '37', '0', '1', '1'] \n",
      "\n",
      "['1076297448', 'IAmNaughty – Dating App to Meet New People Online', '40430592', 'USD', '0.0', '463', '5', '3.0', '2.0', '2.3', '17+', 'Social Networking', '38', '0', '17', '1'] \n",
      "\n",
      "['433156786', 'Qzone HD', '30027776', 'USD', '0.0', '458', '26', '3.5', '3.0', '4.1.4.1', '4+', 'Social Networking', '26', '5', '2', '1'] \n",
      "\n",
      "['838848566', 'Zenly - Locate your friends in realtime', '126879744', 'USD', '0.0', '427', '0', '4.0', '0.0', '3.1.0', '4+', 'Social Networking', '37', '0', '23', '1'] \n",
      "\n",
      "['1077150310', 'League of Legends Friends', '97852416', 'USD', '0.0', '420', '15', '3.5', '3.5', '1.3.7', '4+', 'Social Networking', '37', '0', '21', '1'] \n",
      "\n",
      "['907002334', '豆瓣', '109557760', 'USD', '0.0', '407', '0', '3.5', '0.0', '4.18.1', '12+', 'Social Networking', '37', '5', '2', '1'] \n",
      "\n",
      "['991032122', 'Candid - Speak Your Mind Freely', '47065088', 'USD', '0.0', '398', '0', '3.5', '0.0', '1.7.3', '17+', 'Social Networking', '37', '0', '1', '1'] \n",
      "\n",
      "['432274380', '知乎', '149436416', 'USD', '0.0', '397', '0', '3.0', '0.0', '3.52.1', '17+', 'Social Networking', '37', '5', '1', '1'] \n",
      "\n",
      "['1030487391', 'Selfeo', '86573056', 'USD', '0.0', '366', '3', '4.0', '5.0', '1.6.2', '17+', 'Social Networking', '37', '1', '1', '1'] \n",
      "\n",
      "['369970819', 'Fake-A-Location Free ™', '7689537', 'USD', '0.0', '354', '215', '1.5', '1.0', '1.01', '4+', 'Social Networking', '43', '0', '1', '1'] \n",
      "\n",
      "['997252057', 'Popcorn Buzz - Free Group Calls', '17457152', 'USD', '0.0', '281', '97', '3.5', '3.5', '1.3.2', '4+', 'Social Networking', '38', '0', '17', '1'] \n",
      "\n",
      "['1185328193', 'Fam — Group video calling for iMessage', '113382400', 'USD', '0.0', '279', '5', '3.5', '3.0', '0.6.41', '4+', 'Social Networking', '37', '4', '1', '1'] \n",
      "\n",
      "['710380093', 'QQ International', '103233536', 'USD', '0.0', '274', '0', '2.0', '0.0', '4.8.4', '4+', 'Social Networking', '38', '0', '8', '1'] \n",
      "\n",
      "['349442137', 'Ameba', '96635904', 'USD', '0.0', '269', '0', '3.0', '0.0', '8.6.1', '12+', 'Social Networking', '37', '0', '1', '1'] \n",
      "\n",
      "['1074278256', 'SoundCloud Pulse: for creators', '18540544', 'USD', '0.0', '240', '53', '3.0', '3.0', '1.3.2', '4+', 'Social Networking', '37', '0', '1', '1'] \n",
      "\n",
      "['861891048', 'Tantan', '35807232', 'USD', '0.0', '235', '0', '4.5', '0.0', '2.7.4', '17+', 'Social Networking', '37', '0', '5', '1'] \n",
      "\n",
      "['477091899', 'Cougar Dating & Life Style App for Mature Women', '109448192', 'USD', '0.0', '213', '30', '4.5', '4.5', '5.2.2', '17+', 'Social Networking', '37', '5', '1', '1'] \n",
      "\n",
      "['994119740', 'Rawr Messenger - Dab your chat', '130276352', 'USD', '0.0', '180', '28', '4.0', '3.5', '1.5.4', '12+', 'Social Networking', '37', '0', '1', '1'] \n",
      "\n",
      "['1054355818', 'WhenToPost: Best Time to Post Photos for Instagram', '14897152', 'USD', '0.0', '158', '5', '3.0', '2.0', '2.1', '4+', 'Social Networking', '38', '0', '1', '1'] \n",
      "\n",
      "['978985106', 'Inke—Broadcast an amazing life', '137212928', 'USD', '0.0', '147', '0', '4.0', '0.0', '4.0.55', '17+', 'Social Networking', '37', '0', '2', '1'] \n",
      "\n",
      "['1178472225', 'Mustknow - anonymous video Q&A', '92884992', 'USD', '0.0', '53', '0', '1.5', '0.0', '4.0.0', '12+', 'Social Networking', '37', '0', '1', '1'] \n",
      "\n",
      "['1183234072', 'CTFxCmoji', '26077184', 'USD', '0.0', '39', '4', '5.0', '5.0', '1.3', '9+', 'Social Networking', '37', '1', '1', '1'] \n",
      "\n",
      "['405548206', 'Lobi', '38540288', 'USD', '0.0', '36', '0', '4.0', '0.0', '9.1.5', '17+', 'Social Networking', '37', '0', '4', '1'] \n",
      "\n",
      "['998360879', 'Chain: Collaborate On MyVideo Story/Group Video', '95789056', 'USD', '0.0', '35', '0', '4.5', '0.0', '3.2.5', '12+', 'Social Networking', '37', '0', '1', '1'] \n",
      "\n",
      "['867887231', 'botman - Real time video chat', '86319104', 'USD', '0.0', '7', '0', '3.0', '0.0', '2017.5.1', '17+', 'Social Networking', '37', '5', '2', '1'] \n",
      "\n",
      "['1011114397', 'BestieBox', '48274432', 'USD', '0.0', '0', '0', '0.0', '0.0', '3.2.1', '4+', 'Social Networking', '37', '0', '5', '1'] \n",
      "\n",
      "['1056011241', 'MATCH ON LINE chat', '9462784', 'USD', '0.0', '0', '0', '0.0', '0.0', '1.3', '17+', 'Social Networking', '37', '0', '1', '1'] \n",
      "\n",
      "['1148502570', 'niconico ch', '55334912', 'USD', '0.0', '0', '0', '0.0', '0.0', '1.0.9', '17+', 'Social Networking', '37', '0', '2', '1'] \n",
      "\n",
      "['1171367187', 'LINE BLOG', '101159936', 'USD', '0.0', '0', '0', '0.0', '0.0', '1.5.0', '12+', 'Social Networking', '37', '0', '1', '1'] \n",
      "\n",
      "['1068460848', 'bit-tube - Live Stream Video Chat', '44632064', 'USD', '0.0', '0', '0', '0.0', '0.0', '1.3', '12+', 'Social Networking', '37', '0', '2', '1'] \n",
      "\n"
     ]
    }
   ],
   "source": [
    "for app in ios_free:\n",
    "    genre = app[-5]\n",
    "    if genre == 'Social Networking':\n",
    "        print(app,\"\\n\")"
   ]
  },
  {
   "cell_type": "code",
   "execution_count": 52,
   "metadata": {
    "collapsed": false
   },
   "outputs": [
    {
     "name": "stdout",
     "output_type": "stream",
     "text": [
      "['284035177', 'Pandora - Music & Radio', '130242560', 'USD', '0.0', '1126879', '3594', '4.0', '4.5', '8.4.1', '12+', 'Music', '37', '4', '1', '1'] \n",
      "\n",
      "['324684580', 'Spotify Music', '132510720', 'USD', '0.0', '878563', '8253', '4.5', '4.5', '8.4.3', '12+', 'Music', '37', '5', '18', '1'] \n",
      "\n",
      "['284993459', 'Shazam - Discover music, artists, videos & lyrics', '147093504', 'USD', '0.0', '402925', '136', '4.0', '4.5', '11.0.3', '12+', 'Music', '37', '3', '16', '1'] \n",
      "\n",
      "['290638154', 'iHeartRadio – Free Music & Radio Stations', '116443136', 'USD', '0.0', '293228', '110', '4.0', '3.0', '8.0.0', '12+', 'Music', '37', '5', '2', '1'] \n",
      "\n",
      "['336353151', 'SoundCloud - Music & Audio', '105009152', 'USD', '0.0', '135744', '594', '4.0', '4.5', '5.6.0', '4+', 'Music', '37', '4', '7', '1'] \n",
      "\n",
      "['421254504', 'Magic Piano by Smule', '55030784', 'USD', '0.0', '131695', '1102', '4.5', '4.0', '8.3.1', '4+', 'Music', '37', '5', '12', '1'] \n",
      "\n",
      "['509993510', 'Smule Sing!', '109940736', 'USD', '0.0', '119316', '33', '4.5', '4.0', '5.2.3', '9+', 'Music', '37', '5', '12', '1'] \n",
      "\n",
      "['418987775', 'TuneIn Radio - MLB NBA Audiobooks Podcasts Music', '101735424', 'USD', '0.0', '110420', '370', '4.5', '4.5', '11.9', '12+', 'Music', '37', '4', '14', '1'] \n",
      "\n",
      "['510855668', 'Amazon Music', '77778944', 'USD', '0.0', '106235', '4605', '4.5', '5.0', '6.5.0', '4+', 'Music', '37', '5', '6', '1'] \n",
      "\n",
      "['355554941', 'SoundHound Song Search & Music Player', '70516736', 'USD', '0.0', '82602', '13', '4.0', '4.5', '7.6', '9+', 'Music', '37', '5', '23', '1'] \n",
      "\n",
      "['293523031', 'Sonos Controller', '107983872', 'USD', '0.0', '48905', '2691', '4.5', '4.5', '7.2', '4+', 'Music', '37', '4', '12', '1'] \n",
      "\n",
      "['471394851', 'Bandsintown Concerts', '80923648', 'USD', '0.0', '30845', '105', '4.5', '5.0', '5.10', '4+', 'Music', '37', '3', '7', '1'] \n",
      "\n",
      "['547109049', 'Karaoke - Sing Karaoke, Unlimited Songs!', '95711232', 'USD', '0.0', '28606', '955', '4.5', '4.5', '4.1.5', '4+', 'Music', '38', '5', '19', '1'] \n",
      "\n",
      "['525781368', 'My Mixtapez Music', '84864000', 'USD', '0.0', '26286', '2', '4.5', '3.5', '7.0.57', '12+', 'Music', '25', '0', '1', '1'] \n",
      "\n",
      "['342138881', 'Sing Karaoke Songs Unlimited with StarMaker', '91267072', 'USD', '0.0', '26227', '7', '4.0', '4.5', '6.0.3', '9+', 'Music', '37', '4', '14', '1'] \n",
      "\n",
      "['380908399', 'Ringtones for iPhone & Ringtone Maker', '109270016', 'USD', '0.0', '25403', '1598', '4.5', '4.5', '8.9.6', '12+', 'Music', '37', '4', '9', '1'] \n",
      "\n",
      "['591560124', 'Musi - Unlimited Music For YouTube', '16686080', 'USD', '0.0', '25193', '245', '4.5', '5.0', '5.8.5', '17+', 'Music', '37', '5', '2', '1'] \n",
      "\n",
      "['524299475', 'AutoRap by Smule', '71257088', 'USD', '0.0', '18202', '514', '4.0', '3.5', '2.3.5', '12+', 'Music', '37', '5', '12', '1'] \n",
      "\n",
      "['642064350', 'Spinrilla - Mixtapes For Free', '40071168', 'USD', '0.0', '15053', '1032', '4.5', '4.0', '3.2.5', '12+', 'Music', '37', '0', '3', '1'] \n",
      "\n",
      "['584557117', 'Napster - Top Music & Radio', '184817664', 'USD', '0.0', '14268', '80', '4.0', '3.5', '5.7.5', '12+', 'Music', '37', '4', '11', '1'] \n",
      "\n",
      "['493226494', 'edjing Mix:DJ turntable to remix and scratch music', '144888832', 'USD', '0.0', '13580', '1208', '4.5', '4.5', '6.6.3', '4+', 'Music', '37', '5', '12', '1'] \n",
      "\n",
      "['1110273623', 'Free Music - MP3 Streamer & Playlist Manager Pro', '10542080', 'USD', '0.0', '13443', '1229', '4.5', '4.5', '2.3', '4+', 'Music', '37', '5', '1', '1'] \n",
      "\n",
      "['890740165', 'Free Piano app by Yokee', '73091072', 'USD', '0.0', '13016', '1818', '4.5', '5.0', '1.0.32', '4+', 'Music', '38', '5', '18', '1'] \n",
      "\n",
      "['691797987', 'Google Play Music', '82697216', 'USD', '0.0', '10118', '231', '3.5', '3.5', '3.26.1007', '12+', 'Music', '37', '5', '32', '1'] \n",
      "\n",
      "['535338086', 'Certified Mixtapes - Hip Hop Albums & Mixtapes', '41123840', 'USD', '0.0', '9975', '15', '4.5', '3.0', '2.7.3', '12+', 'Music', '37', '1', '1', '1'] \n",
      "\n",
      "['913943275', 'TIDAL', '63882240', 'USD', '0.0', '7398', '639', '4.0', '4.5', '1.18.0', '12+', 'Music', '37', '5', '9', '1'] \n",
      "\n",
      "['1017492454', 'YouTube Music', '114122752', 'USD', '0.0', '7109', '48', '3.5', '3.0', '1.78', '17+', 'Music', '37', '0', '1', '1'] \n",
      "\n",
      "['1077024869', 'Nicki Minaj: The Empire', '601800704', 'USD', '0.0', '5196', '357', '4.5', '4.0', '1.2.1', '12+', 'Music', '38', '5', '1', '1'] \n",
      "\n",
      "['852318295', 'Sounds app - Music And Friends', '132413440', 'USD', '0.0', '5126', '35', '4.5', '4.0', '2.43', '12+', 'Music', '37', '0', '14', '1'] \n",
      "\n",
      "['1077871641', 'SongFlip - Free Music Streamer', '32579584', 'USD', '0.0', '5004', '1883', '4.5', '4.5', '1.0.5', '4+', 'Music', '37', '3', '1', '1'] \n",
      "\n",
      "['891132290', 'Simple Radio - Live AM & FM Radio Stations', '36992000', 'USD', '0.0', '4787', '13', '4.5', '4.5', '4.2.5', '4+', 'Music', '37', '5', '3', '1'] \n",
      "\n",
      "['292738169', 'Deezer - Listen to your Favorite Music & Playlists', '127470592', 'USD', '0.0', '4677', '12', '3.0', '4.0', '6.19.0', '12+', 'Music', '37', '5', '21', '1'] \n",
      "\n",
      "['1036141497', 'Ringtones for iPhone with Ringtone Maker', '38459392', 'USD', '0.0', '4013', '163', '4.5', '4.5', '5.4', '4+', 'Music', '38', '0', '11', '1'] \n",
      "\n",
      "['708379313', 'Bose SoundTouch', '54193152', 'USD', '0.0', '3687', '2763', '4.0', '4.5', '14.80.6', '12+', 'Music', '37', '4', '1', '1'] \n",
      "\n",
      "['944011620', 'Amazon Alexa', '78435328', 'USD', '0.0', '3018', '141', '2.0', '1.5', '2.0.2478', '4+', 'Music', '37', '3', '2', '1'] \n",
      "\n",
      "['835217317', 'DatPiff', '88672256', 'USD', '0.0', '2815', '115', '3.5', '4.5', '4.6.1', '17+', 'Music', '37', '4', '19', '1'] \n",
      "\n",
      "['912390687', 'Trebel Music - Unlimited Music Downloader', '54278144', 'USD', '0.0', '2570', '305', '4.5', '4.5', '3.7.1', '12+', 'Music', '37', '0', '2', '1'] \n",
      "\n",
      "['970777078', 'Free Music Play - Mp3 Streamer & Player', '18927616', 'USD', '0.0', '2496', '2374', '4.5', '4.5', '1.3.0', '4+', 'Music', '38', '5', '31', '1'] \n",
      "\n",
      "['924635678', 'Acapella from PicPlayPost', '134921216', 'USD', '0.0', '2487', '23', '4.0', '4.0', '2.23', '12+', 'Music', '37', '5', '11', '1'] \n",
      "\n",
      "['405338085', 'Coach Guitar - Lessons & Easy Tabs For Beginners', '132141056', 'USD', '0.0', '2416', '45', '4.5', '4.5', '4.8.1', '4+', 'Music', '37', '5', '12', '1'] \n",
      "\n",
      "['1040451985', 'Musicloud - MP3 and FLAC Music Player for Cloud Platforms.', '49267712', 'USD', '0.0', '2211', '803', '4.0', '4.5', '1.5', '4+', 'Music', '38', '5', '14', '1'] \n",
      "\n",
      "['694133630', 'Piano - Play Keyboard Music Games with Magic Tiles', '117793792', 'USD', '0.0', '1636', '125', '4.5', '4.5', '1.23', '4+', 'Music', '37', '5', '22', '1'] \n",
      "\n",
      "['1065511007', 'Boom: Best Equalizer & Magical Surround Sound', '88309760', 'USD', '0.0', '1375', '41', '4.0', '5.0', '1.2.1', '4+', 'Music', '37', '4', '4', '1'] \n",
      "\n",
      "['952871251', 'Music Freedom - Unlimited Free MP3 Music Streaming', '22730752', 'USD', '0.0', '1246', '9', '4.0', '4.0', '1.3.8', '12+', 'Music', '37', '3', '1', '1'] \n",
      "\n",
      "['986905979', 'AmpMe - A Portable Social Party Music Speaker', '69876736', 'USD', '0.0', '1047', '2', '4.0', '4.0', '5.6.0', '12+', 'Music', '37', '4', '9', '1'] \n",
      "\n",
      "['940268124', 'Medly - Music Maker', '138166272', 'USD', '0.0', '933', '121', '4.5', '4.5', '3.4.2', '4+', 'Music', '37', '5', '11', '1'] \n",
      "\n",
      "['1046510029', 'Bose Connect', '92542976', 'USD', '0.0', '915', '104', '3.0', '2.5', '4.1.0', '4+', 'Music', '35', '5', '19', '1'] \n",
      "\n",
      "['1036437162', 'Music Memos', '146113536', 'USD', '0.0', '909', '106', '4.0', '3.5', '1.0.3', '4+', 'Music', '35', '5', '34', '1'] \n",
      "\n",
      "['632344648', 'UE BOOM', '27680768', 'USD', '0.0', '612', '12', '2.5', '3.5', '5.3', '4+', 'Music', '38', '0', '8', '1'] \n",
      "\n",
      "['973056418', 'LiveMixtapes', '63872000', 'USD', '0.0', '555', '105', '4.0', '4.5', '2.1', '12+', 'Music', '37', '0', '1', '1'] \n",
      "\n",
      "['1011132019', 'NOISE', '99423232', 'USD', '0.0', '355', '5', '3.0', '2.0', '2.3.3', '4+', 'Music', '25', '5', '0', '1'] \n",
      "\n",
      "['1073948898', 'MP3 Music Player & Streamer for Clouds', '12675072', 'USD', '0.0', '329', '1', '3.0', '2.0', '1.6', '4+', 'Music', '37', '4', '1', '1'] \n",
      "\n",
      "['970131308', 'Musical Video Maker - Create Music clips lip sync', '28518400', 'USD', '0.0', '320', '68', '3.5', '3.5', '3.0', '9+', 'Music', '37', '3', '1', '1'] \n",
      "\n",
      "['1054011814', 'Cloud Music Player - Downloader & Playlist Manager', '9063424', 'USD', '0.0', '319', '286', '3.5', '3.5', '1.2', '12+', 'Music', '37', '5', '1', '1'] \n",
      "\n",
      "['1058801458', 'Remixlive - Remix loops with pads', '103392256', 'USD', '0.0', '288', '100', '4.5', '4.5', '2.1.1', '4+', 'Music', '37', '5', '2', '1'] \n",
      "\n",
      "['429885089', 'QQ音乐HD', '139457536', 'USD', '0.0', '224', '4', '3.5', '5.0', '5.3.1', '4+', 'Music', '24', '5', '3', '1'] \n",
      "\n",
      "['1085697317', 'Blocs Wave - Make & Record Music', '70608896', 'USD', '0.0', '158', '7', '4.0', '4.5', '12.1', '4+', 'Music', '37', '5', '1', '1'] \n",
      "\n",
      "['963753435', 'PlayGround • Music At Your Fingertips', '190360576', 'USD', '0.0', '150', '16', '4.5', '5.0', '1.2.0', '4+', 'Music', '37', '5', '1', '1'] \n",
      "\n",
      "['1100636064', 'Music and Chill', '28763136', 'USD', '0.0', '135', '36', '4.0', '4.5', '1.1', '4+', 'Music', '37', '0', '1', '1'] \n",
      "\n",
      "['450555662', 'The Singing Machine Mobile Karaoke App', '32770048', 'USD', '0.0', '130', '9', '2.5', '1.5', '1.10.4', '12+', 'Music', '37', '1', '1', '1'] \n",
      "\n",
      "['311762416', 'radio.de - Der Radioplayer', '40717312', 'USD', '0.0', '64', '9', '4.5', '5.0', '4.0.5', '4+', 'Music', '37', '5', '14', '1'] \n",
      "\n",
      "['1061501834', 'Free Music -  Player & Streamer  for Dropbox, OneDrive & Google Drive', '13889536', 'USD', '0.0', '46', '13', '2.5', '2.5', '1.3', '4+', 'Music', '38', '3', '1', '1'] \n",
      "\n",
      "['298596830', 'NRJ Radio', '53426176', 'USD', '0.0', '38', '2', '3.5', '5.0', '5.2.6', '4+', 'Music', '37', '5', '4', '1'] \n",
      "\n",
      "['876217010', 'Smart Music: Streaming Videos and Radio', '32728064', 'USD', '0.0', '17', '0', '4.5', '0.0', '4.0.1', '12+', 'Music', '37', '4', '2', '1'] \n",
      "\n",
      "['1113473319', 'BOSS Tuner', '2565120', 'USD', '0.0', '13', '13', '3.5', '3.5', '1.0.0', '4+', 'Music', '37', '3', '2', '1'] \n",
      "\n",
      "['482917268', 'PetitLyrics', '40871936', 'USD', '0.0', '0', '0', '0.0', '0.0', '2.4.5', '4+', 'Music', '37', '4', '2', '1'] \n",
      "\n"
     ]
    }
   ],
   "source": [
    "for app in ios_free:\n",
    "    genre = app[-5]\n",
    "    if genre == 'Music':\n",
    "        print(app,\"\\n\")"
   ]
  },
  {
   "cell_type": "code",
   "execution_count": 53,
   "metadata": {
    "collapsed": false
   },
   "outputs": [
    {
     "name": "stdout",
     "output_type": "stream",
     "text": [
      "['295646461', 'The Weather Channel: Forecast, Radar & Alerts', '199734272', 'USD', '0.0', '495626', '5893', '3.5', '4.5', '8.11', '4+', 'Weather', '37', '0', '33', '1'] \n",
      "\n",
      "['364252504', 'The Weather Channel App for iPad – best local forecast, radar map, and storm tracking', '59101184', 'USD', '0.0', '208648', '25664', '4.0', '4.5', '4.5.1', '4+', 'Weather', '24', '4', '1', '1'] \n",
      "\n",
      "['281940292', 'WeatherBug - Local Weather, Radar, Maps, Alerts', '100524032', 'USD', '0.0', '188583', '2822', '3.5', '4.5', '5.0.0', '4+', 'Weather', '37', '5', '3', '1'] \n",
      "\n",
      "['322439990', 'MyRadar NOAA Weather Radar Forecast', '127284224', 'USD', '0.0', '150158', '3392', '4.5', '5.0', '5.1.4', '4+', 'Weather', '37', '2', '8', '1'] \n",
      "\n",
      "['300048137', 'AccuWeather - Weather for Life', '181941248', 'USD', '0.0', '144214', '2162', '3.5', '4.0', '10.4.1', '4+', 'Weather', '37', '1', '43', '1'] \n",
      "\n",
      "['628677149', 'Yahoo Weather', '123047936', 'USD', '0.0', '112603', '537', '4.5', '4.5', '1.11.3', '4+', 'Weather', '37', '5', '39', '1'] \n",
      "\n",
      "['486154808', 'Weather Underground: Custom Forecast & Local Radar', '99829760', 'USD', '0.0', '49192', '1649', '4.5', '4.5', '5.9.4', '4+', 'Weather', '37', '5', '31', '1'] \n",
      "\n",
      "['749133753', 'NOAA Weather Radar - Weather Forecast & HD Radar', '108172288', 'USD', '0.0', '45696', '2673', '4.5', '4.5', '3.17', '4+', 'Weather', '37', '5', '12', '1'] \n",
      "\n",
      "['749083919', 'Weather Live Free - Weather Forecast & Alerts', '101524480', 'USD', '0.0', '35702', '3768', '4.5', '4.5', '5.3', '4+', 'Weather', '38', '5', '16', '1'] \n",
      "\n",
      "['955957721', 'Storm Radar', '93304832', 'USD', '0.0', '22792', '1563', '4.5', '3.5', '1.9.9', '4+', 'Weather', '37', '5', '31', '1'] \n",
      "\n",
      "['403037266', 'QuakeFeed Earthquake Map, Alerts, and News', '70262784', 'USD', '0.0', '6081', '15', '4.5', '4.5', '4.1', '4+', 'Weather', '37', '5', '1', '1'] \n",
      "\n",
      "['434209233', 'Moji Weather - Free Weather Forecast', '86968320', 'USD', '0.0', '2333', '0', '4.5', '0.0', '7.0.0', '4+', 'Weather', '38', '0', '3', '1'] \n",
      "\n",
      "['545689128', 'Hurricane by American Red Cross', '54710272', 'USD', '0.0', '1158', '5', '4.0', '3.0', '3.4', '4+', 'Weather', '37', '5', '1', '1'] \n",
      "\n",
      "['1057030968', 'Forecast Bar', '129855488', 'USD', '0.0', '375', '107', '4.0', '4.5', '3.4.1', '4+', 'Weather', '37', '5', '1', '1'] \n",
      "\n",
      "['527705255', 'Hurricane Tracker WESH 2 Orlando, Central Florida', '29992960', 'USD', '0.0', '203', '84', '4.0', '4.5', '4.1', '4+', 'Weather', '37', '1', '1', '1'] \n",
      "\n",
      "['474807486', 'FEMA', '8147968', 'USD', '0.0', '128', '7', '3.0', '3.5', '2.9.1', '4+', 'Weather', '37', '4', '1', '1'] \n",
      "\n",
      "['823413326', 'iWeather - World weather forecast', '30547968', 'USD', '0.0', '80', '3', '4.5', '3.5', '3.5', '4+', 'Weather', '37', '2', '1', '1'] \n",
      "\n",
      "['942413257', 'Weather - Radar - Storm with Morecast App', '185079808', 'USD', '0.0', '78', '0', '3.5', '0.0', '3.8.2', '4+', 'Weather', '37', '3', '22', '1'] \n",
      "\n",
      "['398954883', 'Yurekuru Call', '56609792', 'USD', '0.0', '53', '0', '4.0', '0.0', '3.4.7', '4+', 'Weather', '37', '5', '2', '1'] \n",
      "\n",
      "['545993260', 'Weather & Radar', '94449664', 'USD', '0.0', '37', '2', '4.0', '3.5', '4.3.2', '4+', 'Weather', '37', '3', '21', '1'] \n",
      "\n",
      "['613464159', 'WRAL Weather Alert', '68850688', 'USD', '0.0', '25', '1', '3.0', '1.0', '3.1.1', '4+', 'Weather', '37', '5', '30', '1'] \n",
      "\n",
      "['376197239', 'Météo-France', '124090368', 'USD', '0.0', '24', '2', '3.5', '5.0', '5.7.1150', '4+', 'Weather', '37', '4', '3', '1'] \n",
      "\n",
      "['526819635', 'JaxReady', '8352768', 'USD', '0.0', '22', '4', '3.5', '1.5', '6.0.1', '17+', 'Weather', '37', '5', '1', '1'] \n",
      "\n",
      "['1106510521', \"Freddy the Frogcaster's Weather Station\", '76928000', 'USD', '0.0', '14', '1', '4.5', '5.0', '1.0.1', '4+', 'Weather', '37', '5', '1', '1'] \n",
      "\n",
      "['850417796', 'Almanac Long-Range Weather Forecast', '15704064', 'USD', '0.0', '12', '4', '1.5', '1.0', '4.0', '4+', 'Weather', '40', '4', '1', '1'] \n",
      "\n",
      "['935204856', 'TodayAir', '30035968', 'USD', '0.0', '0', '0', '0.0', '0.0', '1.2', '4+', 'Weather', '40', '0', '7', '1'] \n",
      "\n",
      "['1020581825', 'wetter.com', '192418816', 'USD', '0.0', '0', '0', '0.0', '0.0', '1.15.0', '4+', 'Weather', '37', '5', '2', '1'] \n",
      "\n",
      "['986420993', 'WarnWetter', '51410944', 'USD', '0.0', '0', '0', '0.0', '0.0', '1.6.2', '4+', 'Weather', '37', '5', '1', '1'] \n",
      "\n"
     ]
    }
   ],
   "source": [
    "for app in ios_free:\n",
    "    genre = app[-5]\n",
    "    if genre == 'Weather':\n",
    "        print(app,\"\\n\")"
   ]
  },
  {
   "cell_type": "code",
   "execution_count": 54,
   "metadata": {
    "collapsed": false
   },
   "outputs": [
    {
     "name": "stdout",
     "output_type": "stream",
     "text": [
      "['298867247', 'Chase Mobile℠', '39505920', 'USD', '0.0', '233270', '14625', '4.5', '4.5', '2.610', '4+', 'Finance', '37', '0', '2', '1'] \n",
      "\n",
      "['300238550', 'Mint: Personal Finance, Budget, Bills & Money', '162891776', 'USD', '0.0', '232940', '683', '4.0', '4.5', '5.9.0', '4+', 'Finance', '37', '5', '1', '1'] \n",
      "\n",
      "['284847138', 'Bank of America - Mobile Banking', '160925696', 'USD', '0.0', '119773', '2336', '3.5', '4.5', '7.3.8', '4+', 'Finance', '37', '0', '2', '1'] \n",
      "\n",
      "['283646709', 'PayPal - Send and request money safely', '227795968', 'USD', '0.0', '119487', '879', '4.0', '4.5', '6.12.0', '4+', 'Finance', '37', '0', '19', '1'] \n",
      "\n",
      "['519817714', 'Credit Karma: Free Credit Scores, Reports & Alerts', '95494144', 'USD', '0.0', '101679', '181', '5.0', '5.0', '4.11.1', '4+', 'Finance', '37', '0', '1', '1'] \n",
      "\n",
      "['407558537', 'Capital One Mobile', '273259520', 'USD', '0.0', '56110', '57', '4.5', '4.0', '5.19.1', '4+', 'Finance', '37', '5', '2', '1'] \n",
      "\n",
      "['301724680', 'Citi Mobile®', '281244672', 'USD', '0.0', '48822', '193', '3.5', '4.0', '8.5.0', '4+', 'Finance', '37', '0', '1', '1'] \n",
      "\n",
      "['311548709', 'Wells Fargo Mobile', '57328640', 'USD', '0.0', '43064', '216', '3.0', '2.5', '3.55', '4+', 'Finance', '37', '0', '2', '1'] \n",
      "\n",
      "['370697773', 'Chase Mobile', '34950144', 'USD', '0.0', '34322', '3167', '4.5', '4.5', '3.620', '4+', 'Finance', '24', '5', '1', '1'] \n",
      "\n",
      "['711923939', 'Square Cash - Send Money for Free', '90040320', 'USD', '0.0', '23775', '132', '4.5', '4.5', '2.16', '4+', 'Finance', '37', '0', '1', '1'] \n",
      "\n",
      "['694133485', 'Capital One for iPad', '92510208', 'USD', '0.0', '21858', '389', '4.5', '4.5', '2.8.0', '4+', 'Finance', '24', '5', '1', '1'] \n",
      "\n",
      "['351727428', 'Venmo', '68153344', 'USD', '0.0', '21090', '1325', '4.5', '5.0', '7.1.0', '4+', 'Finance', '37', '4', '1', '1'] \n",
      "\n",
      "['312325565', 'USAA Mobile', '164382720', 'USD', '0.0', '19946', '13', '4.0', '2.5', '7.32.3', '4+', 'Finance', '37', '5', '1', '1'] \n",
      "\n",
      "['346184215', 'TaxCaster – Free tax refund calculator', '7111680', 'USD', '0.0', '17516', '125', '3.5', '5.0', '7.2', '4+', 'Finance', '37', '5', '1', '1'] \n",
      "\n",
      "['362348516', 'Amex Mobile', '105982976', 'USD', '0.0', '11421', '57', '4.0', '2.5', '5.21.1', '4+', 'Finance', '37', '4', '1', '1'] \n",
      "\n",
      "['940247939', 'TurboTax Tax Return App - File 2016 income taxes', '151153664', 'USD', '0.0', '9635', '0', '4.5', '0.0', '3.6', '4+', 'Finance', '37', '5', '1', '1'] \n",
      "\n",
      "['433508740', 'Bank of America - Mobile Banking for iPad', '114268160', 'USD', '0.0', '7569', '31', '3.5', '3.0', '7.3.8', '4+', 'Finance', '24', '5', '1', '1'] \n",
      "\n",
      "['579446739', 'Wells Fargo for iPad', '67862528', 'USD', '0.0', '2207', '20', '2.5', '1.5', '2.95', '4+', 'Finance', '24', '5', '2', '1'] \n",
      "\n",
      "['1017148055', 'Stash Invest: Investing & Financial Education', '110992384', 'USD', '0.0', '1655', '91', '4.0', '4.5', '1.6.12', '4+', 'Finance', '37', '0', '1', '1'] \n",
      "\n",
      "['1011935076', 'Digit: Save Money Without Thinking About It', '68513792', 'USD', '0.0', '1506', '287', '3.5', '3.0', '1.4.3', '4+', 'Finance', '37', '0', '1', '1'] \n",
      "\n",
      "['414113282', 'IRS2Go', '10110976', 'USD', '0.0', '1329', '47', '3.0', '3.0', '5.3.1', '17+', 'Finance', '37', '4', '2', '1'] \n",
      "\n",
      "['1008234539', 'Capital One CreditWise - Credit score and report', '64735232', 'USD', '0.0', '1019', '79', '4.5', '5.0', '1.4.0', '4+', 'Finance', '37', '0', '1', '1'] \n",
      "\n",
      "['995112030', 'U by BB&T', '74385408', 'USD', '0.0', '790', '13', '2.0', '3.5', '1.6.5', '4+', 'Finance', '38', '5', '1', '1'] \n",
      "\n",
      "['943587620', 'Paribus - Rebates When Prices Drop', '92841984', 'USD', '0.0', '768', '32', '3.0', '1.5', '2.9.0', '4+', 'Finance', '37', '5', '1', '1'] \n",
      "\n",
      "['510717503', 'KeyBank Mobile', '32492544', 'USD', '0.0', '623', '1', '2.5', '1.0', '4.1.0', '17+', 'Finance', '37', '0', '1', '1'] \n",
      "\n",
      "['1059634715', 'VyStar Mobile Banking for iPhone', '27553792', 'USD', '0.0', '434', '114', '1.5', '1.5', '5.0.34', '4+', 'Finance', '43', '0', '1', '1'] \n",
      "\n",
      "['320599923', 'Sparkasse - Your mobile branch', '119574528', 'USD', '0.0', '77', '1', '3.0', '4.0', '3.1.3', '4+', 'Finance', '37', '0', '3', '1'] \n",
      "\n",
      "['1059536022', 'VyStar Mobile Banking for iPad', '68358144', 'USD', '0.0', '57', '1', '1.5', '5.0', '5.0.25', '4+', 'Finance', '26', '5', '1', '1'] \n",
      "\n",
      "['445850671', 'Zaim', '118128640', 'USD', '0.0', '44', '0', '4.0', '0.0', '6.1.3', '4+', 'Finance', '37', '5', '2', '1'] \n",
      "\n",
      "['376202925', 'Ma Banque', '137866240', 'USD', '0.0', '17', '0', '3.5', '0.0', '11.0.1', '4+', 'Finance', '37', '5', '1', '1'] \n",
      "\n",
      "['469964520', 'Lloyds Bank Mobile Banking', '104023040', 'USD', '0.0', '17', '5', '4.5', '4.0', '16.1', '4+', 'Finance', '37', '0', '1', '1'] \n",
      "\n",
      "['1156875272', 'Suica', '24804352', 'USD', '0.0', '10', '0', '1.5', '0.0', '1.0.6', '4+', 'Finance', '37', '0', '2', '1'] \n",
      "\n",
      "['486355738', 'Halifax Mobile Banking', '101190656', 'USD', '0.0', '8', '0', '4.5', '0.0', '16.1', '4+', 'Finance', '37', '0', '1', '1'] \n",
      "\n",
      "['409362880', 'La Banque Postale', '23792640', 'USD', '0.0', '8', '0', '3.0', '0.0', '5.5.0', '4+', 'Finance', '37', '5', '1', '1'] \n",
      "\n",
      "['1043390344', '币优铺', '24213504', 'USD', '0.0', '0', '0', '0.0', '0.0', '1.7.5', '4+', 'Finance', '38', '0', '2', '1'] \n",
      "\n",
      "['505488770', 'Impots.gouv', '9299968', 'USD', '0.0', '0', '0', '0.0', '0.0', '2.6.0', '4+', 'Finance', '37', '2', '1', '1'] \n",
      "\n"
     ]
    }
   ],
   "source": [
    "for app in ios_free:\n",
    "    genre = app[-5]\n",
    "    if genre == 'Finance':\n",
    "        print(app,\"\\n\")"
   ]
  },
  {
   "cell_type": "markdown",
   "metadata": {},
   "source": [
    "Social Networking, Music, Weather and Finance apps are recommended. "
   ]
  },
  {
   "cell_type": "code",
   "execution_count": 55,
   "metadata": {
    "collapsed": false
   },
   "outputs": [
    {
     "data": {
      "text/plain": [
       "[['App',\n",
       "  'Category',\n",
       "  'Rating',\n",
       "  'Reviews',\n",
       "  'Size',\n",
       "  'Installs',\n",
       "  'Type',\n",
       "  'Price',\n",
       "  'Content Rating',\n",
       "  'Genres',\n",
       "  'Last Updated',\n",
       "  'Current Ver',\n",
       "  'Android Ver'],\n",
       " ['Photo Editor & Candy Camera & Grid & ScrapBook',\n",
       "  'ART_AND_DESIGN',\n",
       "  '4.1',\n",
       "  '159',\n",
       "  '19M',\n",
       "  '10,000+',\n",
       "  'Free',\n",
       "  '0',\n",
       "  'Everyone',\n",
       "  'Art & Design',\n",
       "  'January 7, 2018',\n",
       "  '1.0.0',\n",
       "  '4.0.3 and up']]"
      ]
     },
     "execution_count": 55,
     "metadata": {},
     "output_type": "execute_result"
    }
   ],
   "source": [
    "pstore[:2]"
   ]
  },
  {
   "cell_type": "markdown",
   "metadata": {},
   "source": [
    "We need to remove the '+' behind the installs."
   ]
  },
  {
   "cell_type": "code",
   "execution_count": 61,
   "metadata": {
    "collapsed": false
   },
   "outputs": [
    {
     "name": "stdout",
     "output_type": "stream",
     "text": [
      "BEAUTY : 513151.88679245283\n",
      "ENTERTAINMENT : 11640705.88235294\n",
      "SHOPPING : 7036877.311557789\n",
      "PARENTING : 542603.6206896552\n",
      "BOOKS_AND_REFERENCE : 8767811.894736841\n",
      "COMICS : 817657.2727272727\n",
      "VIDEO_PLAYERS : 24727872.452830188\n",
      "PERSONALIZATION : 5201482.6122448975\n",
      "ART_AND_DESIGN : 1986335.0877192982\n",
      "LIBRARIES_AND_DEMO : 638503.734939759\n",
      "EDUCATION : 1833495.145631068\n",
      "SOCIAL : 23253652.127118643\n",
      "TRAVEL_AND_LOCAL : 13984077.710144928\n",
      "FINANCE : 1387692.475609756\n",
      "PHOTOGRAPHY : 17840110.40229885\n",
      "WEATHER : 5074486.197183099\n",
      "SPORTS : 3638640.1428571427\n",
      "DATING : 854028.8303030303\n",
      "AUTO_AND_VEHICLES : 647317.8170731707\n",
      "LIFESTYLE : 1437816.2687861272\n",
      "NEWS_AND_MAGAZINES : 9549178.467741935\n",
      "EVENTS : 253542.22222222222\n",
      "FOOD_AND_DRINK : 1924897.7363636363\n",
      "GAME : 15588015.603248259\n",
      "PRODUCTIVITY : 16787331.344927534\n",
      "FAMILY : 3695641.8198090694\n",
      "TOOLS : 10801391.298666667\n",
      "HEALTH_AND_FITNESS : 4188821.9853479853\n",
      "HOUSE_AND_HOME : 1331540.5616438356\n",
      "MAPS_AND_NAVIGATION : 4056941.7741935486\n",
      "BUSINESS : 1712290.1474201474\n",
      "MEDICAL : 120550.61980830671\n",
      "COMMUNICATION : 38456119.167247385\n"
     ]
    }
   ],
   "source": [
    "apk_cat = freq_table(android_free,1)\n",
    "\n",
    "for category in apk_cat:\n",
    "    total = 0\n",
    "    len_category = 0\n",
    "    for app in android_free:\n",
    "        category_app = app[1]\n",
    "        if category_app == category:\n",
    "            n = app[5]\n",
    "            n = n.replace('+','')\n",
    "            n = n.replace(',','')\n",
    "            n = float(n)\n",
    "            total += n\n",
    "            len_category += 1\n",
    "    avg = total/len_category\n",
    "    print(category,':',avg)\n",
    "        "
   ]
  },
  {
   "cell_type": "markdown",
   "metadata": {
    "collapsed": true
   },
   "source": [
    "Communication apps have the most installs. Video players are the runner-ups"
   ]
  },
  {
   "cell_type": "code",
   "execution_count": null,
   "metadata": {
    "collapsed": true
   },
   "outputs": [],
   "source": [
    "s"
   ]
  }
 ],
 "metadata": {
  "kernelspec": {
   "display_name": "Python 3",
   "language": "python",
   "name": "python3"
  },
  "language_info": {
   "codemirror_mode": {
    "name": "ipython",
    "version": 3
   },
   "file_extension": ".py",
   "mimetype": "text/x-python",
   "name": "python",
   "nbconvert_exporter": "python",
   "pygments_lexer": "ipython3",
   "version": "3.4.3"
  }
 },
 "nbformat": 4,
 "nbformat_minor": 2
}
